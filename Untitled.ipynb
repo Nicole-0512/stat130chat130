{
 "cells": [
  {
   "cell_type": "code",
   "execution_count": 17,
   "id": "d4a2e8e1-f17a-4825-aefe-97177c723755",
   "metadata": {},
   "outputs": [
    {
     "data": {
      "text/plain": [
       "row_n           0\n",
       "id              1\n",
       "name            0\n",
       "gender          0\n",
       "species         0\n",
       "birthday        0\n",
       "personality     0\n",
       "song           11\n",
       "phrase          0\n",
       "full_id         0\n",
       "url             0\n",
       "dtype: int64"
      ]
     },
     "execution_count": 17,
     "metadata": {},
     "output_type": "execute_result"
    }
   ],
   "source": [
    "# Q1\n",
    "import pandas as pd\n",
    "url =\"https://raw.githubusercontent.com/rfordatascience/tidytuesday/master/data/2020/2020-05-05/villagers.csv\"\n",
    "df = pd.read_csv(url)\n",
    "df.isna().sum()"
   ]
  },
  {
   "cell_type": "code",
   "execution_count": 5,
   "id": "bbc0ea82-17a0-4278-a4d0-36ba045fa29b",
   "metadata": {},
   "outputs": [
    {
     "data": {
      "text/plain": [
       "(Index(['row_n', 'id', 'name', 'gender', 'species', 'birthday', 'personality',\n",
       "        'song', 'phrase', 'full_id', 'url'],\n",
       "       dtype='object'),\n",
       " 391)"
      ]
     },
     "execution_count": 5,
     "metadata": {},
     "output_type": "execute_result"
    }
   ],
   "source": [
    "# Q2\n",
    "import pandas as pd\n",
    "\n",
    "# Load the dataset\n",
    "url = \"https://raw.githubusercontent.com/rfordatascience/tidytuesday/master/data/2020/2020-05-05/villagers.csv\"\n",
    "villagers_df = pd.read_csv(url)\n",
    "\n",
    "# Check the columns and the number of rows\n",
    "columns = villagers_df.columns\n",
    "row_count = villagers_df.shape[0]\n",
    "\n",
    "columns, row_count"
   ]
  },
  {
   "cell_type": "code",
   "execution_count": 16,
   "id": "089e9111-3c61-4f12-97de-8f619c4fc853",
   "metadata": {},
   "outputs": [],
   "source": [
    "# Observations refer to individual records or data points within a dataset. \n",
    "# Each observation represents a single unit of analysis and typically corresponds to a single row in a dataset.\n",
    "# In this dataset means a single Animal Crossing character, like \"Bulbasaur\"."
   ]
  },
  {
   "cell_type": "code",
   "execution_count": null,
   "id": "8001d273-718f-49fc-90c1-8489513f5dec",
   "metadata": {},
   "outputs": [],
   "source": [
    "# Variables are the different types of information or attributes that are recorded for each observation.\n",
    "# Each variable corresponds to a column in a dataset.\n",
    "# In this dataset like \"name\", \"species\" etc."
   ]
  },
  {
   "cell_type": "code",
   "execution_count": 11,
   "id": "bb6395dd-6ae6-4d88-9648-eb9a49880839",
   "metadata": {},
   "outputs": [
    {
     "data": {
      "text/html": [
       "<div>\n",
       "<style scoped>\n",
       "    .dataframe tbody tr th:only-of-type {\n",
       "        vertical-align: middle;\n",
       "    }\n",
       "\n",
       "    .dataframe tbody tr th {\n",
       "        vertical-align: top;\n",
       "    }\n",
       "\n",
       "    .dataframe thead th {\n",
       "        text-align: right;\n",
       "    }\n",
       "</style>\n",
       "<table border=\"1\" class=\"dataframe\">\n",
       "  <thead>\n",
       "    <tr style=\"text-align: right;\">\n",
       "      <th></th>\n",
       "      <th>row_n</th>\n",
       "    </tr>\n",
       "  </thead>\n",
       "  <tbody>\n",
       "    <tr>\n",
       "      <th>count</th>\n",
       "      <td>391.000000</td>\n",
       "    </tr>\n",
       "    <tr>\n",
       "      <th>mean</th>\n",
       "      <td>239.902813</td>\n",
       "    </tr>\n",
       "    <tr>\n",
       "      <th>std</th>\n",
       "      <td>140.702672</td>\n",
       "    </tr>\n",
       "    <tr>\n",
       "      <th>min</th>\n",
       "      <td>2.000000</td>\n",
       "    </tr>\n",
       "    <tr>\n",
       "      <th>25%</th>\n",
       "      <td>117.500000</td>\n",
       "    </tr>\n",
       "    <tr>\n",
       "      <th>50%</th>\n",
       "      <td>240.000000</td>\n",
       "    </tr>\n",
       "    <tr>\n",
       "      <th>75%</th>\n",
       "      <td>363.500000</td>\n",
       "    </tr>\n",
       "    <tr>\n",
       "      <th>max</th>\n",
       "      <td>483.000000</td>\n",
       "    </tr>\n",
       "  </tbody>\n",
       "</table>\n",
       "</div>"
      ],
      "text/plain": [
       "            row_n\n",
       "count  391.000000\n",
       "mean   239.902813\n",
       "std    140.702672\n",
       "min      2.000000\n",
       "25%    117.500000\n",
       "50%    240.000000\n",
       "75%    363.500000\n",
       "max    483.000000"
      ]
     },
     "execution_count": 11,
     "metadata": {},
     "output_type": "execute_result"
    }
   ],
   "source": [
    "# Q3\n",
    "df.describe()"
   ]
  },
  {
   "cell_type": "code",
   "execution_count": 18,
   "id": "62772aac-493f-4786-801c-5f7f4bd00b06",
   "metadata": {},
   "outputs": [
    {
     "data": {
      "text/plain": [
       "species\n",
       "cat          23\n",
       "rabbit       20\n",
       "frog         18\n",
       "squirrel     18\n",
       "duck         17\n",
       "dog          16\n",
       "cub          16\n",
       "pig          15\n",
       "bear         15\n",
       "mouse        15\n",
       "horse        15\n",
       "bird         13\n",
       "penguin      13\n",
       "sheep        13\n",
       "elephant     11\n",
       "wolf         11\n",
       "ostrich      10\n",
       "deer         10\n",
       "eagle         9\n",
       "gorilla       9\n",
       "chicken       9\n",
       "koala         9\n",
       "goat          8\n",
       "hamster       8\n",
       "kangaroo      8\n",
       "monkey        8\n",
       "anteater      7\n",
       "hippo         7\n",
       "tiger         7\n",
       "alligator     7\n",
       "lion          7\n",
       "bull          6\n",
       "rhino         6\n",
       "cow           4\n",
       "octopus       3\n",
       "Name: count, dtype: int64"
      ]
     },
     "execution_count": 18,
     "metadata": {},
     "output_type": "execute_result"
    }
   ],
   "source": [
    "df['species'].value_counts()"
   ]
  },
  {
   "cell_type": "code",
   "execution_count": 20,
   "id": "650e9661-132f-4cda-aa34-67d452f8a513",
   "metadata": {},
   "outputs": [
    {
     "name": "stdout",
     "output_type": "stream",
     "text": [
      "891 15\n"
     ]
    },
    {
     "data": {
      "text/html": [
       "<div>\n",
       "<style scoped>\n",
       "    .dataframe tbody tr th:only-of-type {\n",
       "        vertical-align: middle;\n",
       "    }\n",
       "\n",
       "    .dataframe tbody tr th {\n",
       "        vertical-align: top;\n",
       "    }\n",
       "\n",
       "    .dataframe thead th {\n",
       "        text-align: right;\n",
       "    }\n",
       "</style>\n",
       "<table border=\"1\" class=\"dataframe\">\n",
       "  <thead>\n",
       "    <tr style=\"text-align: right;\">\n",
       "      <th></th>\n",
       "      <th>survived</th>\n",
       "      <th>pclass</th>\n",
       "      <th>age</th>\n",
       "      <th>sibsp</th>\n",
       "      <th>parch</th>\n",
       "      <th>fare</th>\n",
       "    </tr>\n",
       "  </thead>\n",
       "  <tbody>\n",
       "    <tr>\n",
       "      <th>count</th>\n",
       "      <td>891.000000</td>\n",
       "      <td>891.000000</td>\n",
       "      <td>714.000000</td>\n",
       "      <td>891.000000</td>\n",
       "      <td>891.000000</td>\n",
       "      <td>891.000000</td>\n",
       "    </tr>\n",
       "    <tr>\n",
       "      <th>mean</th>\n",
       "      <td>0.383838</td>\n",
       "      <td>2.308642</td>\n",
       "      <td>29.699118</td>\n",
       "      <td>0.523008</td>\n",
       "      <td>0.381594</td>\n",
       "      <td>32.204208</td>\n",
       "    </tr>\n",
       "    <tr>\n",
       "      <th>std</th>\n",
       "      <td>0.486592</td>\n",
       "      <td>0.836071</td>\n",
       "      <td>14.526497</td>\n",
       "      <td>1.102743</td>\n",
       "      <td>0.806057</td>\n",
       "      <td>49.693429</td>\n",
       "    </tr>\n",
       "    <tr>\n",
       "      <th>min</th>\n",
       "      <td>0.000000</td>\n",
       "      <td>1.000000</td>\n",
       "      <td>0.420000</td>\n",
       "      <td>0.000000</td>\n",
       "      <td>0.000000</td>\n",
       "      <td>0.000000</td>\n",
       "    </tr>\n",
       "    <tr>\n",
       "      <th>25%</th>\n",
       "      <td>0.000000</td>\n",
       "      <td>2.000000</td>\n",
       "      <td>20.125000</td>\n",
       "      <td>0.000000</td>\n",
       "      <td>0.000000</td>\n",
       "      <td>7.910400</td>\n",
       "    </tr>\n",
       "    <tr>\n",
       "      <th>50%</th>\n",
       "      <td>0.000000</td>\n",
       "      <td>3.000000</td>\n",
       "      <td>28.000000</td>\n",
       "      <td>0.000000</td>\n",
       "      <td>0.000000</td>\n",
       "      <td>14.454200</td>\n",
       "    </tr>\n",
       "    <tr>\n",
       "      <th>75%</th>\n",
       "      <td>1.000000</td>\n",
       "      <td>3.000000</td>\n",
       "      <td>38.000000</td>\n",
       "      <td>1.000000</td>\n",
       "      <td>0.000000</td>\n",
       "      <td>31.000000</td>\n",
       "    </tr>\n",
       "    <tr>\n",
       "      <th>max</th>\n",
       "      <td>1.000000</td>\n",
       "      <td>3.000000</td>\n",
       "      <td>80.000000</td>\n",
       "      <td>8.000000</td>\n",
       "      <td>6.000000</td>\n",
       "      <td>512.329200</td>\n",
       "    </tr>\n",
       "  </tbody>\n",
       "</table>\n",
       "</div>"
      ],
      "text/plain": [
       "         survived      pclass         age       sibsp       parch        fare\n",
       "count  891.000000  891.000000  714.000000  891.000000  891.000000  891.000000\n",
       "mean     0.383838    2.308642   29.699118    0.523008    0.381594   32.204208\n",
       "std      0.486592    0.836071   14.526497    1.102743    0.806057   49.693429\n",
       "min      0.000000    1.000000    0.420000    0.000000    0.000000    0.000000\n",
       "25%      0.000000    2.000000   20.125000    0.000000    0.000000    7.910400\n",
       "50%      0.000000    3.000000   28.000000    0.000000    0.000000   14.454200\n",
       "75%      1.000000    3.000000   38.000000    1.000000    0.000000   31.000000\n",
       "max      1.000000    3.000000   80.000000    8.000000    6.000000  512.329200"
      ]
     },
     "execution_count": 20,
     "metadata": {},
     "output_type": "execute_result"
    }
   ],
   "source": [
    "# Q4\n",
    "# df.shape returns the total number of rows and columns in the dataset(does not report information about missing values).\n",
    "# df.describe() only analyzes numerical columns. It does not include non-numeric columns in its summary.\n",
    "# The \"count\" column shows the number of non-null values, which might be less than the total number of rows if there are missing values.\n",
    "# If the dataset contains both numeric and non-numeric columns, \n",
    "# the number of columns analyzed by df.describe() will generally be fewer than the total number of columns in the dataset as given by df.shape.\n",
    "url = \"https://raw.githubusercontent.com/mwaskom/seaborn-data/master/titanic.csv\"\n",
    "df = pd.read_csv(url)\n",
    "print(df.shape[0], df.shape[1])\n",
    "df.describe()"
   ]
  },
  {
   "cell_type": "code",
   "execution_count": null,
   "id": "9a407fb1-e1e8-4985-9ada-ade8d7201d94",
   "metadata": {},
   "outputs": [],
   "source": [
    "# Q5\n",
    "# The shape attribute of a pandas DataFrame provides the dimensions of the DataFrame—specifically, the number of rows and columns.\n",
    "# It accesses attributes directly without parentheses.\n",
    "# Methods require parentheses, even if no arguments are passed, to be executed.\n",
    "# The describe() method generates descriptive statistics of the numerical columns in the DataFrame, such as count, mean, standard deviation, min, and max.\n",
    "# Accessed with parentheses & Perform actions or computations and can return results\n",
    "# \"Shape\" just shows these data, \"describe\" needs to be calculated."
   ]
  },
  {
   "cell_type": "code",
   "execution_count": null,
   "id": "9b45837d-a5fb-4d25-b7ef-f62521068aac",
   "metadata": {},
   "outputs": [],
   "source": [
    "# Q6 https://chatgpt.com/share/66e38233-6c30-800b-a5d9-8e778ca5d6c2\n",
    "# I can't put the picture of the formulas in here, so I put the link about their formulas.\n",
    "# count: Simply the total number of non-missing values.\n",
    "# mean: The average value of the entries in the column, is calculated by summing all the values and dividing by the count of entries.\n",
    "# Standard Deviation (std): A measure of the amount of variation or dispersion of the values in the column. It indicates how much the values deviate from the mean.\n",
    "# Minimum (min): The smallest value in the column.\n",
    "# 25th Percentile (25%): The value below which 25% of the entries in the column fall. Also known as the first quartile (Q1).\n",
    "# Median (50%): The middle value of the column when the entries are sorted. Half of the values are below this point and half are above it.\n",
    "# 75th Percentile (75%): The value below which 75% of the entries in the column fall. Also known as the third quartile (Q3).\n",
    "# Maximum (max): The largest value in the column."
   ]
  },
  {
   "cell_type": "code",
   "execution_count": 1,
   "id": "7a683e2d-50c2-46e4-ae9a-0a881efae113",
   "metadata": {},
   "outputs": [
    {
     "name": "stdout",
     "output_type": "stream",
     "text": [
      "Before:\n",
      "   EmployeeID   Name   Age Department   Salary\n",
      "0           1  Alice  25.0         HR  50000.0\n",
      "1           2    Bob   NaN         IT  55000.0\n",
      "2           3   None  30.0    Finance      NaN\n",
      "3           4  David  45.0       None  60000.0\n",
      "4           5   Ella   NaN         IT  62000.0\n"
     ]
    }
   ],
   "source": [
    "# Q7\n",
    "# 1 When 97% of data  in a set are valid, 3% of data are invalid. \n",
    "# 1 In this situation, most of the data is available, \"df.dropna()\" is better.\n",
    "# 2 When the vast majority of a set of data is invalid,\"del df['col']\" might be preferred over using \"df.dropna()\".\n",
    "# 3 Removing irrelevant columns beforehand reduces the complexity of the dataset. \n",
    "# 3 By removing unnecessary columns first, \"df.dropna()\" can operate more efficiently, focusing on a smaller, more relevant set of data.\n",
    "# 4 justification:\n",
    "# 4 Before: The dataset contains missing values in various columns, making it less reliable for analysis.\n",
    "# 4 After: By removing the irrelevant Name column and then dropping rows with missing values, we are left with a cleaner dataset containing only complete and relevant data. \n",
    "# 4 This approach ensures that the remaining data is both complete and pertinent to the analysis.\n",
    "# 4\n",
    "import pandas as pd\n",
    "\n",
    "# Sample DataFrame with missing values\n",
    "data = {\n",
    "    'EmployeeID': [1, 2, 3, 4, 5],\n",
    "    'Name': ['Alice', 'Bob', None, 'David', 'Ella'],\n",
    "    'Age': [25, None, 30, 45, None],\n",
    "    'Department': ['HR', 'IT', 'Finance', None, 'IT'],\n",
    "    'Salary': [50000, 55000, None, 60000, 62000]\n",
    "}\n",
    "\n",
    "df = pd.DataFrame(data)\n",
    "\n",
    "print(\"Before:\")\n",
    "print(df)"
   ]
  },
  {
   "cell_type": "code",
   "execution_count": 2,
   "id": "89b39f6e-3c92-4c25-b0c4-ddf25e99680c",
   "metadata": {},
   "outputs": [],
   "source": [
    "# Remove the 'Name' column\n",
    "del df['Name']"
   ]
  },
  {
   "cell_type": "code",
   "execution_count": 3,
   "id": "45ca1eb5-493f-450e-b900-8c400883a47a",
   "metadata": {},
   "outputs": [
    {
     "name": "stdout",
     "output_type": "stream",
     "text": [
      "After:\n",
      "   EmployeeID   Age Department   Salary\n",
      "0           1  25.0         HR  50000.0\n"
     ]
    }
   ],
   "source": [
    "# Drop rows with any missing values\n",
    "df_cleaned = df.dropna()\n",
    "print(\"After:\")\n",
    "print(df_cleaned)"
   ]
  },
  {
   "cell_type": "code",
   "execution_count": 12,
   "id": "fa8e2ad6-704f-4194-b000-c2ba22a8516f",
   "metadata": {},
   "outputs": [
    {
     "data": {
      "text/plain": [
       "Index(['EmployeeID', 'Age', 'Department', 'Salary'], dtype='object')"
      ]
     },
     "execution_count": 12,
     "metadata": {},
     "output_type": "execute_result"
    }
   ],
   "source": [
    "# Q8 1 https://chatgpt.com/share/66e385ec-a62c-800b-a3f9-77592945e7b8\n",
    "df.shape\n",
    "df.columns"
   ]
  },
  {
   "cell_type": "code",
   "execution_count": 17,
   "id": "a7bfc15c-e555-49d3-8d13-f1e44f53a019",
   "metadata": {
    "scrolled": true
   },
   "outputs": [
    {
     "data": {
      "text/html": [
       "<div>\n",
       "<style scoped>\n",
       "    .dataframe tbody tr th:only-of-type {\n",
       "        vertical-align: middle;\n",
       "    }\n",
       "\n",
       "    .dataframe tbody tr th {\n",
       "        vertical-align: top;\n",
       "    }\n",
       "\n",
       "    .dataframe thead th {\n",
       "        text-align: right;\n",
       "    }\n",
       "</style>\n",
       "<table border=\"1\" class=\"dataframe\">\n",
       "  <thead>\n",
       "    <tr style=\"text-align: right;\">\n",
       "      <th></th>\n",
       "      <th>count</th>\n",
       "      <th>mean</th>\n",
       "      <th>std</th>\n",
       "      <th>min</th>\n",
       "      <th>25%</th>\n",
       "      <th>50%</th>\n",
       "      <th>75%</th>\n",
       "      <th>max</th>\n",
       "    </tr>\n",
       "    <tr>\n",
       "      <th>Age</th>\n",
       "      <th></th>\n",
       "      <th></th>\n",
       "      <th></th>\n",
       "      <th></th>\n",
       "      <th></th>\n",
       "      <th></th>\n",
       "      <th></th>\n",
       "      <th></th>\n",
       "    </tr>\n",
       "  </thead>\n",
       "  <tbody>\n",
       "    <tr>\n",
       "      <th>25.0</th>\n",
       "      <td>1.0</td>\n",
       "      <td>50000.0</td>\n",
       "      <td>NaN</td>\n",
       "      <td>50000.0</td>\n",
       "      <td>50000.0</td>\n",
       "      <td>50000.0</td>\n",
       "      <td>50000.0</td>\n",
       "      <td>50000.0</td>\n",
       "    </tr>\n",
       "    <tr>\n",
       "      <th>30.0</th>\n",
       "      <td>0.0</td>\n",
       "      <td>NaN</td>\n",
       "      <td>NaN</td>\n",
       "      <td>NaN</td>\n",
       "      <td>NaN</td>\n",
       "      <td>NaN</td>\n",
       "      <td>NaN</td>\n",
       "      <td>NaN</td>\n",
       "    </tr>\n",
       "    <tr>\n",
       "      <th>45.0</th>\n",
       "      <td>1.0</td>\n",
       "      <td>60000.0</td>\n",
       "      <td>NaN</td>\n",
       "      <td>60000.0</td>\n",
       "      <td>60000.0</td>\n",
       "      <td>60000.0</td>\n",
       "      <td>60000.0</td>\n",
       "      <td>60000.0</td>\n",
       "    </tr>\n",
       "  </tbody>\n",
       "</table>\n",
       "</div>"
      ],
      "text/plain": [
       "      count     mean  std      min      25%      50%      75%      max\n",
       "Age                                                                   \n",
       "25.0    1.0  50000.0  NaN  50000.0  50000.0  50000.0  50000.0  50000.0\n",
       "30.0    0.0      NaN  NaN      NaN      NaN      NaN      NaN      NaN\n",
       "45.0    1.0  60000.0  NaN  60000.0  60000.0  60000.0  60000.0  60000.0"
      ]
     },
     "execution_count": 17,
     "metadata": {},
     "output_type": "execute_result"
    }
   ],
   "source": [
    "df. groupby (\"Age\")[\"Salary\"].describe()"
   ]
  },
  {
   "cell_type": "code",
   "execution_count": 21,
   "id": "0c904a79-813c-472f-8811-eb37cf9c93f5",
   "metadata": {},
   "outputs": [],
   "source": [
    "# Q8 2 In df.describe(), missing values are simply omitted from the count, which gives you a sense of overall completeness.\n",
    "# Q8 2 In df.groupby(\"col1\")[\"col2\"].describe(), missing values are considered within each group. If some groups have more missing values than others, this will show up as varying counts across groups."
   ]
  },
  {
   "cell_type": "code",
   "execution_count": 23,
   "id": "9c433974-4742-40c5-94e2-fce9093d8e8f",
   "metadata": {},
   "outputs": [],
   "source": [
    "# Q8 3 https://jupyter.utoronto.ca/user/nicolez.huang@mail.utoronto.ca/files/Untitled1.ipynb?_xsrf=2%7C80c9eef3%7C7b7c3f249d39640a25227183828dfd72%7C1726154395"
   ]
  },
  {
   "cell_type": "code",
   "execution_count": null,
   "id": "ac9d4f02-c6a7-4682-b7da-815e353fb934",
   "metadata": {},
   "outputs": [],
   "source": [
    "# yes, I review the wiki-textbook.\n",
    "# https://chatgpt.com/share/66e37ecf-448c-800b-9a74-2a3d89d61eeb (Q1-Q3)\n",
    "# https://chatgpt.com/share/66e38233-6c30-800b-a5d9-8e778ca5d6c2 (Q6)\n",
    "# https://chatgpt.com/share/66e385ec-a62c-800b-a3f9-77592945e7b8 (Q8)"
   ]
  }
 ],
 "metadata": {
  "kernelspec": {
   "display_name": "Python 3 (ipykernel)",
   "language": "python",
   "name": "python3"
  },
  "language_info": {
   "codemirror_mode": {
    "name": "ipython",
    "version": 3
   },
   "file_extension": ".py",
   "mimetype": "text/x-python",
   "name": "python",
   "nbconvert_exporter": "python",
   "pygments_lexer": "ipython3",
   "version": "3.11.6"
  }
 },
 "nbformat": 4,
 "nbformat_minor": 5
}
