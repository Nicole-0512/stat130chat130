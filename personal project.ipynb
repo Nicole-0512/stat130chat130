{
 "cells": [
  {
   "cell_type": "code",
   "execution_count": 1,
   "id": "8eb98d7f",
   "metadata": {},
   "outputs": [],
   "source": [
    "# Research Question1: Is there an association between COVID-19 preventive behaviors and measures of life satisfaction and burnout?"
   ]
  },
  {
   "cell_type": "code",
   "execution_count": 2,
   "id": "4754a2c6",
   "metadata": {},
   "outputs": [],
   "source": [
    "# Variables Selected:\n",
    "# COVID-19 Preventive Behaviors:\n",
    "#   COVID_prevention_distancing: This variable captures the extent to which individuals practice physical distancing, which could influence their social interactions and mental health.\n",
    "#   COVID_prevention_masks: This represents mask-wearing behavior, reflecting an individual's commitment to reducing COVID-19 transmission.\n",
    "#   COVID_vaccinated: Indicates whether an individual is vaccinated, which may impact their sense of security and mental well-being.\n",
    "# Mental Health and Life Satisfaction Measures:\n",
    "#   WELLNESS_life_satisfaction: This variable measures overall life satisfaction, serving as a key indicator of well-being.\n",
    "#   WELLNESS_malach_pines_burnout_measure_tired: This variable reflects feelings of tiredness or burnout, commonly used to gauge physical and mental exhaustion.\n",
    "#   WELLNESS_malach_pines_burnout_measure_hopeless: This variable captures feelings of hopelessness, which can be an indicator of poor mental health."
   ]
  },
  {
   "cell_type": "code",
   "execution_count": 4,
   "id": "1d2b387a",
   "metadata": {},
   "outputs": [],
   "source": [
    "#Planned Visualizations:\n",
    "# Scatter Plot - Correlation between life satisfaction and burnout, separated by vaccination status\n",
    "# Scatter plots can reveal correlations between life satisfaction and burnout scores within vaccinated and unvaccinated groups. \n",
    "# This allows for a comparison of mental health indicators based on vaccination status."
   ]
  },
  {
   "cell_type": "code",
   "execution_count": 5,
   "id": "15241764",
   "metadata": {},
   "outputs": [],
   "source": [
    "#Analysis Method:\n",
    "#Goal: To determine if COVID-19 preventive behaviors (mask-wearing, physical distancing, and vaccination) are significant predictors of life satisfaction and burnout.\n",
    "#Method: Multiple Regression Analysis\n",
    "#Assumptions:\n",
    "# The data meets the normality assumption required for regression analysis.\n",
    "# There is no multicollinearity among independent variables (each variable independently contributes to the outcome).\n",
    "# There is a linear relationship between the independent and dependent variables."
   ]
  },
  {
   "cell_type": "code",
   "execution_count": null,
   "id": "95b5fd48",
   "metadata": {},
   "outputs": [],
   "source": [
    "# Hypothesis and Discussion:\n",
    "# Hypothesis: Engaging in COVID-19 preventive behaviors (e.g., mask-wearing and vaccination) is positively associated with higher life satisfaction and negatively associated with burnout symptoms, such as feelings of tiredness and hopelessness. Individuals who practice more preventive measures are hypothesized to have better mental health outcomes compared to those who do not engage in these behaviors.\n",
    "# Discussion:\n",
    "# Possible Outcomes:\n",
    "#   Positive Association: Preventive behaviors may correlate with higher life satisfaction and lower burnout, suggesting psychological benefits.\n",
    "#   No Association: Lack of correlation may indicate other factors (e.g., economic stress) impact mental health more than preventive behaviors. \n",
    "# Relevance to Project Objectives: Findings could inform public health strategies to promote behaviors that support both physical and mental health during crises, providing insight into effective health interventions."
   ]
  },
  {
   "cell_type": "code",
   "execution_count": null,
   "id": "7cbf6792",
   "metadata": {},
   "outputs": [],
   "source": [
    "# Research Question2: What is the relationship between loneliness and the frequency and type of social connection activities?"
   ]
  },
  {
   "cell_type": "code",
   "execution_count": 6,
   "id": "65c354e3",
   "metadata": {},
   "outputs": [],
   "source": [
    "# Variables:\n",
    "# Loneliness Indicators:\n",
    "#   LONELY_ucla_loneliness_scale_companionship (Lack of Companionship)\n",
    "#   LONELY_ucla_loneliness_scale_left_out (Feeling Left Out)\n",
    "#   LONELY_ucla_loneliness_scale_isolated (Feeling Isolated)\n",
    "# Social Connection Activities:\n",
    "#   CONNECTION_activities_text_or_messaged_p3m (Text Messaging)\n",
    "#   CONNECTION_activities_video_chat_p3m (Video Chatting)\n",
    "#   CONNECTION_activities_visited_friends_p3m (Visiting Friends"
   ]
  },
  {
   "cell_type": "code",
   "execution_count": 7,
   "id": "7c2447e1",
   "metadata": {},
   "outputs": [],
   "source": [
    "# Visualizations:\n",
    "#   Scatter Plot: To visualize relationships between the frequency of online communication activities (e.g., texting, video chats) and loneliness scores."
   ]
  },
  {
   "cell_type": "code",
   "execution_count": 8,
   "id": "684c87ef",
   "metadata": {},
   "outputs": [],
   "source": [
    "# Analysis Method:\n",
    "#  Regression Analysis: To examine if the frequency of specific social activities is associated with reduced loneliness.\n",
    "# Assumptions:\n",
    "#  Normality of residuals for regression analysis.\n",
    "#  Independence among observations."
   ]
  },
  {
   "cell_type": "code",
   "execution_count": 9,
   "id": "275f9511",
   "metadata": {},
   "outputs": [],
   "source": [
    "# Hypothesis: Frequent in-person activities (like visiting friends) will be associated with lower loneliness scores, while reliance on online communication (e.g., text messaging or video chatting) may correlate with higher levels of loneliness.\n",
    "# Discussion:\n",
    "#   Expected Outcome: If results show that in-person visits correlate with lower loneliness, this could imply that face-to-face interactions provide a stronger sense of social connection than digital communication.\n",
    "#   Alternative Outcome: If online interactions are not significantly related to loneliness, it may suggest that these forms of communication do not adequately meet emotional and social needs.\n",
    "# Relevance: These findings help identify which social activities best reduce loneliness, informing public health strategies that promote mental well-being. Insights from this study can guide both individual mental health practices and broader policies to address loneliness effectively."
   ]
  },
  {
   "cell_type": "code",
   "execution_count": null,
   "id": "ad0257fe",
   "metadata": {},
   "outputs": [],
   "source": [
    "# Research Question3: Do demographic characteristics (such as age, gender, and minority status) influence COVID-19 vaccination rates?"
   ]
  },
  {
   "cell_type": "code",
   "execution_count": null,
   "id": "5b88ddaa",
   "metadata": {},
   "outputs": [],
   "source": [
    "# Variable Selection\n",
    "#  1. Demographic Characteristics:\n",
    "#      DEMO_age: Age of the individual.\n",
    "#      DEMO_gender: Gender of the individual.\n",
    "#      DEMO_identity_bipoc: Indicates whether the individual identifies as a member of a minority group (BIPOC - Black, Indigenous, and People of Color).\n",
    "#  2. COVID-19 Vaccination Status:\n",
    "#      COVID_vaccinated: Indicates whether the individual has received the COVID-19 vaccine.\n",
    "#      COVID_vaccinated_two_weeks_since_last_dose: Indicates whether two weeks have passed since the individual’s last dose, marking the period typically needed for full immunization effectiveness."
   ]
  },
  {
   "cell_type": "code",
   "execution_count": 10,
   "id": "9abee308",
   "metadata": {},
   "outputs": [],
   "source": [
    "# Visualization: Bar plot: To show the overall vaccination rates across different demographic groups (e.g., age categories, gender, and minority status)."
   ]
  },
  {
   "cell_type": "code",
   "execution_count": null,
   "id": "f4fc5d80",
   "metadata": {},
   "outputs": [],
   "source": [
    "# Analysis Method\n",
    "# Regression:\n",
    "# Goal: To assess whether age, gender, and minority status significantly affect the likelihood of being vaccinated for COVID-19.\n",
    "# Model: Logistic regression is well-suited for binary outcomes (vaccinated vs. not vaccinated) and can quantify how each demographic factor impacts vaccination probability.\n",
    "# Assumptions:\n",
    "#  Independence of observations.\n",
    "#  Linear relationship between continuous predictors (e.g., age) and the log-odds of the outcome.\n",
    "#  Absence of multicollinearity among predictor variables."
   ]
  },
  {
   "cell_type": "code",
   "execution_count": 11,
   "id": "47b9de23",
   "metadata": {},
   "outputs": [],
   "source": [
    "# Hypothesis and Discussion\n",
    "#   Hypothesis: Older individuals, females, and those identifying as part of a minority group (BIPOC) may have different vaccination rates, potentially due to varying health concerns, accessibility, or cultural factors. Specifically:\n",
    "# Older individuals may have higher vaccination rates due to perceived health risks.\n",
    "#   Women might show higher vaccination rates compared to men.\n",
    "#   Minority group members may experience barriers or hesitancy that influence vaccination rates.\n",
    "# Discussion:\n",
    "#   Expected Outcome: If results show significant associations, they may indicate that certain demographic groups have distinct vaccination patterns, which could highlight accessibility issues or hesitancy factors.\n",
    "#   Alternative Outcome: If no significant effects are found, it might suggest that factors beyond basic demographics (e.g., socio-economic status, education) play a more prominent role in vaccination uptake."
   ]
  },
  {
   "cell_type": "code",
   "execution_count": 1,
   "id": "e3773280",
   "metadata": {},
   "outputs": [],
   "source": [
    "# Relevance:Understanding demographic factors influencing vaccination rates is crucial for targeted public health efforts. This research can guide policies to improve vaccine access and trust in specific groups, promoting equitable health outcomes."
   ]
  },
  {
   "cell_type": "code",
   "execution_count": null,
   "id": "0df682c8",
   "metadata": {},
   "outputs": [],
   "source": [
    "# group member: Ina Wang、Rick Sun、Nicole Huang"
   ]
  }
 ],
 "metadata": {
  "kernelspec": {
   "display_name": "Python 3 (ipykernel)",
   "language": "python",
   "name": "python3"
  },
  "language_info": {
   "codemirror_mode": {
    "name": "ipython",
    "version": 3
   },
   "file_extension": ".py",
   "mimetype": "text/x-python",
   "name": "python",
   "nbconvert_exporter": "python",
   "pygments_lexer": "ipython3",
   "version": "3.11.6"
  }
 },
 "nbformat": 4,
 "nbformat_minor": 5
}
