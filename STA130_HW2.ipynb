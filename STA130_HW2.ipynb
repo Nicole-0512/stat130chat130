{
 "cells": [
  {
   "cell_type": "code",
   "execution_count": null,
   "id": "d68d14bc",
   "metadata": {},
   "outputs": [],
   "source": [
    "# Q1&2&3\n",
    "import numpy as np\n",
    "\n",
    "reps = 100000\n",
    "wins = 0\n",
    "\n",
    "for _ in range(reps):\n",
    "    winning_door = np.random.choice([1, 2, 3])\n",
    "    initial_choice = np.random.choice([1, 2, 3])\n",
    "\n",
    "    # Host reveals a losing door\n",
    "    remaining_doors = [door for door in [1, 2, 3] if door != initial_choice and door != winning_door]\n",
    "    revealed_door = np.random.choice(remaining_doors)\n",
    "\n",
    "    # Player swaps to the other unopened door\n",
    "    swapped_choice = [door for door in [1, 2, 3] if door != initial_choice and door != revealed_door][0]\n",
    "\n",
    "    # Check if the swapped choice is the winning door\n",
    "    if swapped_choice == winning_door:\n",
    "        wins += 1\n",
    "\n",
    "# Calculate win rate\n",
    "win_rate = wins / reps\n",
    "print win_rate\n",
    "# https://chatgpt.com/share/66eca488-bfa8-800b-8f7d-66994ee90236"
   ]
  },
  {
   "cell_type": "code",
   "execution_count": null,
   "id": "28d0cbc7",
   "metadata": {},
   "outputs": [],
   "source": [
    "# Q2 The 'try except' used in the source code is not suitable for normal flow control. \n",
    "# The improved code calculates the 'unposed door' directly using 'win', which shortens the number of lines and allows the code to run more efficiently\n",
    "# The improved version reduces these operations by working directly with filtered, which improves the overall performance slightly due to the more efficient handling of data structures."
   ]
  },
  {
   "cell_type": "code",
   "execution_count": null,
   "id": "18c807bb",
   "metadata": {},
   "outputs": [],
   "source": [
    "# Q4&5.1&5.2 https://chatgpt.com/share/66ecae80-9ccc-800b-b559-ca6e73619a44"
   ]
  },
  {
   "cell_type": "code",
   "execution_count": null,
   "id": "2f2f0a23",
   "metadata": {},
   "outputs": [],
   "source": [
    "# Q5.3 https://chatgpt.com/share/66ecb2ba-321c-8013-8c98-895a77a92757"
   ]
  },
  {
   "cell_type": "code",
   "execution_count": null,
   "id": "5ab2da07",
   "metadata": {},
   "outputs": [],
   "source": [
    "# Q6.1 chatgpt Can make a very comprehensive and quick explanation of Monte Hall problem and \" Markovian ChatBot & quo; code, including using codes that have not been learned and giving explanations of the code. By interacting with chatgpt, you can get a lot of more efficient code.\n",
    "# Q6.2 However, chatgpt also fails to explain some questions, and needs more detailed questions to get the answers. This question can generally be resolved after two or three similar questions.\n",
    "# Q6.3 According to the current experience with chatgpt, AI can be used as a fast and effective way to learn, but too easy to get the answer may lead to low memory of knowledge points, and you need to learn with books or other videos."
   ]
  },
  {
   "cell_type": "code",
   "execution_count": null,
   "id": "065c347e",
   "metadata": {},
   "outputs": [],
   "source": [
    "# Q7 Some ai like chatgpt can help people understand knowledge quickly, but excessive use of ai may also lead to people gradually neglect the practice of basic knowledge. This may not be a good thing for students. \n",
    "# Most of the knowledge in class is also presented through code, which may be difficult for students who do not have a programming foundation. Students need to use a lot of time after class to learn through various online videos or learning ai."
   ]
  },
  {
   "cell_type": "code",
   "execution_count": null,
   "id": "b9158a26",
   "metadata": {},
   "outputs": [],
   "source": [
    "# Q8.1&8.2&8.3 https://chatgpt.com/share/66ecddd4-5058-8011-bf6e-449611302bb9\n",
    "# Q8.4 For data science project manager, he has used a lot of programming code, big data model and other relevant knowledge. Learning well is his course can help me have a good foundation for statistics and programming.\n",
    "# Q8.5 The search of the occupation-related website can be written down to chatgpt in the form of code, and after he has mastered the relevant field, he can make a more realistic report based on new information"
   ]
  },
  {
   "cell_type": "code",
   "execution_count": null,
   "id": "49bffac3",
   "metadata": {},
   "outputs": [],
   "source": [
    "# Q9 Yes"
   ]
  }
 ],
 "metadata": {
  "kernelspec": {
   "display_name": "Python 3 (ipykernel)",
   "language": "python",
   "name": "python3"
  },
  "language_info": {
   "codemirror_mode": {
    "name": "ipython",
    "version": 3
   },
   "file_extension": ".py",
   "mimetype": "text/x-python",
   "name": "python",
   "nbconvert_exporter": "python",
   "pygments_lexer": "ipython3",
   "version": "3.11.6"
  }
 },
 "nbformat": 4,
 "nbformat_minor": 5
}
