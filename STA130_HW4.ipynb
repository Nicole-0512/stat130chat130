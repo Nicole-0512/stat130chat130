{
 "cells": [
  {
   "cell_type": "code",
   "execution_count": null,
   "id": "8e6c360c",
   "metadata": {},
   "outputs": [],
   "source": [
    "# Q1 The standard error of the mean (SEM) measures how much the sample means would vary. \n",
    "# The standard deviation of the original data measures the spread or variability of individual data points in a single sample. \n",
    "# It reflects how much the data points differ from the mean within that sample."
   ]
  },
  {
   "cell_type": "code",
   "execution_count": null,
   "id": "e69b2a98",
   "metadata": {},
   "outputs": [],
   "source": [
    "# Q2 Compute the SEM: This is the standard deviation of the sample means from bootstrapped samples.\n",
    "# Multiply the SEM by 1.96: The factor 1.96 comes from the properties of the normal distribution, which covers 95% of the area under the curve.\n",
    "# Add and subtract this value from the sample mean: This gives the range of the confidence interval.\n",
    "# Confidence Interval=Sample Mean±1.96×SEM"
   ]
  },
  {
   "cell_type": "code",
   "execution_count": null,
   "id": "d9a73351",
   "metadata": {},
   "outputs": [],
   "source": [
    "# Q3 Generate many bootstrapped sample means: Resample the original data with replacement many times (e.g., 1,000 times) and calculate the mean for each resample.\n",
    "# Sort the bootstrapped means: Arrange the bootstrapped means in ascending order.\n",
    "# Find the 2.5th and 97.5th percentiles: The values at these percentiles form the lower and upper bounds of the confidence interval."
   ]
  },
  {
   "cell_type": "code",
   "execution_count": null,
   "id": "160d1c85",
   "metadata": {},
   "outputs": [],
   "source": [
    "# Q4 \n",
    "import numpy as np\n",
    "\n",
    "# Sample data (you can replace this with your own data)\n",
    "sample = np.array([10, 12, 14, 16, 18, 20, 22, 24, 26, 28])\n",
    "\n",
    "# Function to perform bootstrapping\n",
    "def bootstrap_ci(data, num_bootstrap_samples, statistic_func, ci=95):\n",
    "    # Array to store the bootstrap statistics (means in this case)\n",
    "    bootstrap_statistics = []\n",
    "    \n",
    "    # Perform bootstrapping\n",
    "    for _ in range(num_bootstrap_samples):\n",
    "        # Resample the data with replacement\n",
    "        bootstrap_sample = np.random.choice(data, size=len(data), replace=True)\n",
    "        # Calculate the statistic (mean here)\n",
    "        stat = statistic_func(bootstrap_sample)\n",
    "        bootstrap_statistics.append(stat)\n",
    "    \n",
    "    # Sort the bootstrap statistics\n",
    "    bootstrap_statistics = np.sort(bootstrap_statistics)\n",
    "    \n",
    "    # Calculate the confidence interval boundaries (2.5th and 97.5th percentiles)\n",
    "    lower_bound = np.percentile(bootstrap_statistics, (100-ci)/2)\n",
    "    upper_bound = np.percentile(bootstrap_statistics, 100-(100-ci)/2)\n",
    "    \n",
    "    return lower_bound, upper_bound\n",
    "\n",
    "# Generate a 95% bootstrap confidence interval for the mean\n",
    "mean_ci = bootstrap_ci(sample, num_bootstrap_samples=1000, statistic_func=np.mean)\n",
    "\n",
    "print(\"95% Bootstrap Confidence Interval for the Mean:\", mean_ci)\n",
    "\n",
    "# To generate a confidence interval for the median instead, \n",
    "# just change `statistic_func=np.mean` to `statistic_func=np.median`:\n",
    "\n",
    "median_ci = bootstrap_ci(sample, num_bootstrap_samples=1000, statistic_func=np.median)\n",
    "\n",
    "print(\"95% Bootstrap Confidence Interval for the Median:\", median_ci)\n"
   ]
  },
  {
   "cell_type": "code",
   "execution_count": null,
   "id": "bb9fdc7d",
   "metadata": {},
   "outputs": [],
   "source": [
    "# Q5 Population parameters are fixed values (like the true population mean) that describe the entire population, but they are usually unknown.\n",
    "# Sample statistics are estimates calculated from a sample, and they vary depending on the sample."
   ]
  },
  {
   "cell_type": "code",
   "execution_count": null,
   "id": "2b13062b",
   "metadata": {},
   "outputs": [],
   "source": [
    "# Q6a Bootstrapping is like doing an experiment over and over using the data you already have. \n",
    "# Imagine you have a set of data points (like test scores from a class). \n",
    "# Instead of just analyzing that one set, you randomly pick data points from it with replacement—meaning you might pick the same score more than once—until you have a new set that’s the same size as the original. \n",
    "# You do this a bunch of times, each time creating a new set and calculating some statistic (like the average). \n",
    "# This helps you get a sense of how much the statistic might change if you could repeat the sampling process."
   ]
  },
  {
   "cell_type": "code",
   "execution_count": null,
   "id": "06476e6a",
   "metadata": {},
   "outputs": [],
   "source": [
    "# Q6b The main purpose of bootstrapping is to estimate uncertainty. \n",
    "# When we have a sample, we don’t know how close it is to the true population value (like the real average score of all students, not just the ones in our sample). \n",
    "# Bootstrapping helps us figure out how much the sample result (like the average) could vary. \n",
    "# It’s a way to estimate how accurate or stable our sample's result is by simulating the process of sampling multiple times, even though we only have one set of real data."
   ]
  },
  {
   "cell_type": "code",
   "execution_count": null,
   "id": "a82812f8",
   "metadata": {},
   "outputs": [],
   "source": [
    "# Q6c Bootstrap the sample: Take your sample and create many resampled sets (using replacement). For each set, calculate the average score.\n",
    "# Look at the range of these averages: After running many bootstrap samples, you’ll have a collection of average scores from all the resamples. This collection will give you an idea of what the true population average might be, based on your sample.\n",
    "# Compare with your guess: If the average of 75 falls within the middle range of the bootstrapped averages (say, within a 95% confidence interval), then your guess is plausible. If it falls outside that range, it might suggest that your guess (75) is unlikely to be the true population average."
   ]
  },
  {
   "cell_type": "code",
   "execution_count": null,
   "id": "3a370bc5",
   "metadata": {},
   "outputs": [],
   "source": [
    "# Q7 When a confidence interval includes zero, it means that zero is a possible value for the true effect (e.g., the drug's effect) based on the sample data. \n",
    "# Even though the observed sample mean is not zero, the fact that zero lies within the interval means we cannot confidently rule out the possibility that the drug has no effect on average. This leads to failing to reject the null hypothesis because we cannot confidently say the drug has a significant effect.\n",
    "# To reject the null hypothesis, the confidence interval would need to exclude zero. This would suggest that the true effect is significantly different from zero, meaning we have enough evidence to say the drug likely does have an effect."
   ]
  },
  {
   "cell_type": "code",
   "execution_count": null,
   "id": "e711806d",
   "metadata": {},
   "outputs": [],
   "source": [
    "# Q8 The difference in health scores (FinalHealthScore - InitialHealthScore) gives us insight into whether the vaccine improved the patients' health. The summary statistics for the health score change are:\n",
    "# Mean change: 3.3\n",
    "# Standard deviation: 4.03\n",
    "# Minimum change: -3\n",
    "# Maximum change: 8\n",
    "# The positive mean indicates an improvement in health scores on average, but we need further analysis to confirm if this improvement is statistically significant."
   ]
  },
  {
   "cell_type": "code",
   "execution_count": null,
   "id": "d5ba4164",
   "metadata": {},
   "outputs": [],
   "source": [
    "import matplotlib.pyplot as plt\n",
    "import pandas as pd\n",
    "import numpy as np\n",
    "\n",
    "# Create DataFrame\n",
    "data = {\n",
    "    'PatientID': [1, 2, 3, 4, 5, 6, 7, 8, 9, 10],\n",
    "    'Age': [45, 34, 29, 52, 37, 41, 33, 48, 26, 39],\n",
    "    'Gender': ['M', 'F', 'M', 'F', 'M', 'F', 'M', 'F', 'M', 'F'],\n",
    "    'InitialHealthScore': [84, 78, 83, 81, 81, 80, 79, 85, 76, 83],\n",
    "    'FinalHealthScore': [86, 86, 80, 86, 84, 86, 86, 82, 83, 84]\n",
    "}\n",
    "\n",
    "df = pd.DataFrame(data)\n",
    "\n",
    "# Calculate the health score change\n",
    "df['HealthScoreChange'] = df['FinalHealthScore'] - df['InitialHealthScore']\n",
    "\n",
    "# Save boxplot in the current directory\n",
    "plt.figure(figsize=(10, 6))\n",
    "plt.boxplot([df['InitialHealthScore'], df['FinalHealthScore']], \n",
    "            patch_artist=True, \n",
    "            labels=['Initial Health Score', 'Final Health Score'],\n",
    "            boxprops=dict(facecolor='lightblue'))\n",
    "plt.title('Comparison of Initial and Final Health Scores')\n",
    "plt.ylabel('Health Score')\n",
    "plt.grid(True)\n",
    "plt.savefig('initial_vs_final_health_scores.png')  # Save image in current directory\n",
    "\n",
    "# Save histogram in the current directory\n",
    "plt.figure(figsize=(10, 6))\n",
    "plt.hist(df['HealthScoreChange'], bins=5, edgecolor='black')\n",
    "plt.title('Distribution of Health Score Changes After Vaccine')\n",
    "plt.xlabel('Health Score Change')\n",
    "plt.ylabel('Frequency')\n",
    "plt.grid(True)\n",
    "plt.savefig('health_score_change_histogram.png')  # Save image in current directory\n",
    "\n",
    "from PIL import Image\n",
    "\n",
    "# Open and display the first saved image (Boxplot)\n",
    "img1 = Image.open('initial_vs_final_health_scores.png')\n",
    "plt.figure(figsize=(10, 6))\n",
    "plt.imshow(img1)\n",
    "plt.axis('off')  # Hide axis\n",
    "plt.show()\n",
    "\n",
    "# Open and display the second saved image (Histogram)\n",
    "img2 = Image.open('health_score_change_histogram.png')\n",
    "plt.figure(figsize=(10, 6))\n",
    "plt.imshow(img2)\n",
    "plt.axis('off')  # Hide axis\n",
    "plt.show()"
   ]
  },
  {
   "cell_type": "code",
   "execution_count": null,
   "id": "edaa7abb",
   "metadata": {},
   "outputs": [],
   "source": [
    "# The histogram above shows the distribution of changes in health scores after patients received the vaccine. Most patients experienced positive changes in their health scores, with a few experiencing little to no change or even a decrease."
   ]
  },
  {
   "cell_type": "code",
   "execution_count": null,
   "id": "7f31d35c",
   "metadata": {},
   "outputs": [],
   "source": [
    "# To quantitatively assess whether the vaccine has an effect, we will use bootstrapping to generate a confidence interval for the mean change in health scores. The difference between each patient’s initial and final health score gives the HealthScoreChange. The purpose of the bootstrapping method is to estimate how the sample mean health score change would vary if we repeatedly took samples from the same population.\n",
    "# We will compute a 95% confidence interval for the mean health score change. If the confidence interval does not include zero, we can reject the null hypothesis that the vaccine has no effect. Conversely, if zero is within the interval, we fail to reject the null hypothesis."
   ]
  },
  {
   "cell_type": "code",
   "execution_count": null,
   "id": "27ef9d0f",
   "metadata": {},
   "outputs": [],
   "source": [
    "# The bootstrapped 95% confidence interval for the mean change in health scores is (0.7, 5.5). Since this interval does not include zero, it suggests that there is a statistically significant improvement in health scores after receiving the vaccine."
   ]
  },
  {
   "cell_type": "code",
   "execution_count": null,
   "id": "b884e15f",
   "metadata": {},
   "outputs": [],
   "source": [
    "# Because the 95% confidence interval for the mean health score change does not include zero, we can reject the null hypothesis. This indicates that the vaccine likely has a positive effect on improving the health of the patients who took it."
   ]
  },
  {
   "cell_type": "code",
   "execution_count": null,
   "id": "f8f76f91",
   "metadata": {},
   "outputs": [],
   "source": [
    "# Q9 maybe."
   ]
  }
 ],
 "metadata": {
  "kernelspec": {
   "display_name": "Python 3 (ipykernel)",
   "language": "python",
   "name": "python3"
  },
  "language_info": {
   "codemirror_mode": {
    "name": "ipython",
    "version": 3
   },
   "file_extension": ".py",
   "mimetype": "text/x-python",
   "name": "python",
   "nbconvert_exporter": "python",
   "pygments_lexer": "ipython3",
   "version": "3.11.6"
  }
 },
 "nbformat": 4,
 "nbformat_minor": 5
}
